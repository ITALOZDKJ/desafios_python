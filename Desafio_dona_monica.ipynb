{
  "nbformat": 4,
  "nbformat_minor": 0,
  "metadata": {
    "colab": {
      "name": "Desafio_dona_monica.ipynb",
      "provenance": [],
      "mount_file_id": "1eC4saikSskNgboLbX2ma52J9geHZGmrJ",
      "authorship_tag": "ABX9TyMzNe9gMo301fy4zWelqyOL",
      "include_colab_link": true
    },
    "kernelspec": {
      "name": "python3",
      "display_name": "Python 3"
    }
  },
  "cells": [
    {
      "cell_type": "markdown",
      "metadata": {
        "id": "view-in-github",
        "colab_type": "text"
      },
      "source": [
        "<a href=\"https://colab.research.google.com/github/ITALOZDKJ/desafios_python/blob/main/Desafio_dona_monica.ipynb\" target=\"_parent\"><img src=\"https://colab.research.google.com/assets/colab-badge.svg\" alt=\"Open In Colab\"/></a>"
      ]
    },
    {
      "cell_type": "code",
      "metadata": {
        "id": "gbjc-3WDZpF-",
        "outputId": "e68c75bb-eff7-4fad-a27b-efa006f885ff",
        "colab": {
          "base_uri": "https://localhost:8080/"
        }
      },
      "source": [
        "idades = []\n",
        "\n",
        "while True:\n",
        "\tmae = int(input('Digite a idade de dona Mônica: '))\n",
        "\t\n",
        "\tif mae <= 40 or mae >= 110:\n",
        "\t\tprint('Dado inválido')\n",
        "\telse:\n",
        "\t\t idades.append(mae)\n",
        "\t\t break\n",
        "\n",
        "        \n",
        "while True:\n",
        "\t  filho1 = int(input('Digite a idade de um filho: '))\n",
        "\t  if filho1 >= mae or filho1 <= 1 or mae - filho1 < 18 :\n",
        "\t  \tprint('Dado inválido')\n",
        "\t  else:\n",
        "\t\t  idades.append(filho1)\n",
        "\t\t  break\n",
        "\n",
        "while True:\n",
        "\tfilho2 = int(input('Digite a idade de outro filho: '))\n",
        "\tif filho2 >= mae or filho2 == filho1 or filho2 <= 1 or mae - filho2 < 18 or mae - (filho1 + filho2) <= 1:\n",
        "\t\tprint('Dado inválido')\n",
        "\telse:\n",
        "\t\tidades.append(filho2)\n",
        "\t\tbreak\n",
        "\n",
        "filho3 = mae - (filho1 + filho2)\n",
        "idades.append(filho3)\n",
        "#print(idades) mostraria as idades na ordem na qual foram adicionadas a lista\n",
        "#print(sorted(idades)) -> mostraria as idades em ordem crescente \n",
        "print(f'O filho mais velho tem {sorted(idades)[-2]} anos.')\n",
        "\n",
        "\n",
        "#Desafio encontrado em https://olimpiada.ic.unicamp.br/pratique/pj/2019/f1/idade/\n",
        "\t"
      ],
      "execution_count": 2,
      "outputs": [
        {
          "output_type": "stream",
          "text": [
            "Digite a idade de dona Mônica: 47\n",
            "Digite a idade de um filho: 21\n",
            "Digite a idade de outro filho: 9\n",
            "O filho mais velho tem 21 anos.\n"
          ],
          "name": "stdout"
        }
      ]
    },
    {
      "cell_type": "code",
      "metadata": {
        "id": "KssxFtCAZ9QM"
      },
      "source": [
        ""
      ],
      "execution_count": null,
      "outputs": []
    }
  ]
}