{
  "nbformat": 4,
  "nbformat_minor": 0,
  "metadata": {
    "colab": {
      "name": "Desafio_dona_monica.ipynb",
      "provenance": [],
      "mount_file_id": "1eC4saikSskNgboLbX2ma52J9geHZGmrJ",
      "authorship_tag": "ABX9TyNZIJLJf+YkyM+vR8YKQFsm",
      "include_colab_link": true
    },
    "kernelspec": {
      "name": "python3",
      "display_name": "Python 3"
    }
  },
  "cells": [
    {
      "cell_type": "markdown",
      "metadata": {
        "id": "view-in-github",
        "colab_type": "text"
      },
      "source": [
        "<a href=\"https://colab.research.google.com/github/ITALOZDKJ/desafios_python/blob/main/Desafio_dona_monica.ipynb\" target=\"_parent\"><img src=\"https://colab.research.google.com/assets/colab-badge.svg\" alt=\"Open In Colab\"/></a>"
      ]
    },
    {
      "cell_type": "code",
      "metadata": {
        "colab": {
          "base_uri": "https://localhost:8080/"
        },
        "id": "oiwGqVcRZkej",
        "outputId": "5087dec5-ae30-4a46-83d3-97daafd584f5"
      },
      "source": [
        "print('sheeet')"
      ],
      "execution_count": null,
      "outputs": [
        {
          "output_type": "stream",
          "text": [
            "sheeet\n"
          ],
          "name": "stdout"
        }
      ]
    },
    {
      "cell_type": "code",
      "metadata": {
        "colab": {
          "base_uri": "https://localhost:8080/"
        },
        "id": "gbjc-3WDZpF-",
        "outputId": "d227e69a-d60d-4be0-ade0-25527301df47"
      },
      "source": [
        "idades = []\n",
        "\n",
        "while True:\n",
        "\tmae = int(input('Digite a idade de dona Mônica: '))\n",
        "\t\n",
        "\tif mae <= 40 or mae >= 110:\n",
        "\t\tprint('Dado inválido')\n",
        "\telse:\n",
        "\t\t idades.append(mae)\n",
        "\t\t break\n",
        "\n",
        "        \n",
        "while True:\n",
        "\t  filho1 = int(input('Digite a idade de um filho: '))\n",
        "\t  if filho1 >= mae or filho1 <= 1 or mae - filho1 < 18 :\n",
        "\t  \tprint('Dado inválido')\n",
        "\t  else:\n",
        "\t\t  idades.append(filho1)\n",
        "\t\t  break\n",
        "\n",
        "while True:\n",
        "\tfilho2 = int(input('Digite a idade de outro filho: '))\n",
        "\tif filho2 >= mae or filho2 == filho1 or filho2 <= 1 or mae - filho2 < 18 or mae - (filho1 + filho2) <= 1:\n",
        "\t\tprint('Dado inválido')\n",
        "\telse:\n",
        "\t\tidades.append(filho2)\n",
        "\t\tbreak\n",
        "\n",
        "filho3 = mae - (filho1 + filho2)\n",
        "idades.append(filho3)\n",
        "print(idades)\n",
        "print(sorted(idades))\n",
        "print(sorted(idades)[-2])\n",
        "\t"
      ],
      "execution_count": 7,
      "outputs": [
        {
          "output_type": "stream",
          "text": [
            "Digite a idade de dona Mônica: 62\n",
            "Digite a idade de um filho: 25\n",
            "Digite a idade de outro filho: 30\n",
            "[62, 25, 30, 7]\n",
            "[7, 25, 30, 62]\n",
            "30\n"
          ],
          "name": "stdout"
        }
      ]
    },
    {
      "cell_type": "code",
      "metadata": {
        "id": "KssxFtCAZ9QM"
      },
      "source": [
        ""
      ],
      "execution_count": null,
      "outputs": []
    }
  ]
}