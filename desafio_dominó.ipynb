{
  "nbformat": 4,
  "nbformat_minor": 0,
  "metadata": {
    "colab": {
      "name": "desafio_dominó.ipynb",
      "provenance": [],
      "collapsed_sections": [],
      "authorship_tag": "ABX9TyPsO6h1OOe/iVzAQUvVGxba",
      "include_colab_link": true
    },
    "kernelspec": {
      "name": "python3",
      "display_name": "Python 3"
    }
  },
  "cells": [
    {
      "cell_type": "markdown",
      "metadata": {
        "id": "view-in-github",
        "colab_type": "text"
      },
      "source": [
        "<a href=\"https://colab.research.google.com/github/ITALOZDKJ/desafios_python/blob/main/desafio_domin%C3%B3.ipynb\" target=\"_parent\"><img src=\"https://colab.research.google.com/assets/colab-badge.svg\" alt=\"Open In Colab\"/></a>"
      ]
    },
    {
      "cell_type": "code",
      "metadata": {
        "colab": {
          "base_uri": "https://localhost:8080/"
        },
        "id": "sI-KxwWQkx9O",
        "outputId": "d80a1720-ae66-42f6-9fd3-62afb83a7d69"
      },
      "source": [
        "n = int(input('Dominó duplo: '))\n",
        "n_pecas =  ((n+1)*(n+2))/2\n",
        "\n",
        "print(f'Há {int(n_pecas)} peças em um jogo do tipo dulplo-{n}.')\n",
        "\n",
        "#Desafio encontrado em https://olimpiada.ic.unicamp.br/pratique/pj/2019/f1/idade/\n"
      ],
      "execution_count": 3,
      "outputs": [
        {
          "output_type": "stream",
          "text": [
            "Dominó duplo: 6\n",
            "Há 28 peças em um jogo do tipo dulplo-6.\n"
          ],
          "name": "stdout"
        }
      ]
    },
    {
      "cell_type": "code",
      "metadata": {
        "id": "xgp-ONgcn7er"
      },
      "source": [
        ""
      ],
      "execution_count": null,
      "outputs": []
    }
  ]
}