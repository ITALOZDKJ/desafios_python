{
  "nbformat": 4,
  "nbformat_minor": 0,
  "metadata": {
    "colab": {
      "name": "desafio_sequencia_secreta.ipynb",
      "provenance": [],
      "collapsed_sections": [],
      "authorship_tag": "ABX9TyPSb/OHRLJXHlaO3SyCiApE",
      "include_colab_link": true
    },
    "kernelspec": {
      "name": "python3",
      "display_name": "Python 3"
    }
  },
  "cells": [
    {
      "cell_type": "markdown",
      "metadata": {
        "id": "view-in-github",
        "colab_type": "text"
      },
      "source": [
        "<a href=\"https://colab.research.google.com/github/ITALOZDKJ/desafios_python/blob/main/desafio_sequencia_secreta.ipynb\" target=\"_parent\"><img src=\"https://colab.research.google.com/assets/colab-badge.svg\" alt=\"Open In Colab\"/></a>"
      ]
    },
    {
      "cell_type": "code",
      "metadata": {
        "colab": {
          "base_uri": "https://localhost:8080/"
        },
        "id": "9O5sellw9CAc",
        "outputId": "07d9b864-ef5b-4566-d924-6d2d875e4e5f"
      },
      "source": [
        "while True:\n",
        "  n = int(input('Digite o número de números da sequência: '))\n",
        "  if n < 3 or n > 500:\n",
        "    if n > 500:\n",
        "      print('Valor inválido! Tente um menor.')\n",
        "    elif n < 3:\n",
        "      print('Valor inválido! Tente um maior.')\n",
        "  else:\n",
        "    break\n",
        "\n",
        "sequencia = []\n",
        "\n",
        "for c in range(n):\n",
        "  while True:\n",
        "    bit = int(input('>> '))\n",
        "    if bit < 1 or bit > 2:\n",
        "      print('Valor inválido, apenas uns e dois são permitidos!')\n",
        "    else:\n",
        "      break\n",
        "  sequencia.append(bit)\n",
        "sequencia2 = []\n",
        "sequencia2.append(sequencia[0])\n",
        "for c in (sequencia):\n",
        "  if c != sequencia2[-1]:\n",
        "    sequencia2.append(c)\n",
        "  else:\n",
        "    continue\n",
        "quantidade_max = len(sequencia2)\n",
        "print(f'A quantidade máxima de dígitos possíveis é {quantidade_max}.')\n",
        "\n",
        "#Desafio encontrado em https://olimpiada.ic.unicamp.br/pratique/pj/2019/f1/idade/"
      ],
      "execution_count": 26,
      "outputs": [
        {
          "output_type": "stream",
          "text": [
            "Digite o número de números da sequência: 5\n",
            ">> 1\n",
            ">> 2\n",
            ">> 2\n",
            ">> 2\n",
            ">> 1\n",
            "[1, 2, 2, 2, 1]\n",
            "[1, 2, 1]\n",
            "A quantidade máxima de dígitos possíveis é 3.\n"
          ],
          "name": "stdout"
        }
      ]
    },
    {
      "cell_type": "code",
      "metadata": {
        "id": "aXT15R1CBGh_"
      },
      "source": [
        "2"
      ],
      "execution_count": null,
      "outputs": []
    }
  ]
}